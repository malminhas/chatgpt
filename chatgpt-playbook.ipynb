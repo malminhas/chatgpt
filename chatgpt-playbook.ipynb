{
 "cells": [
  {
   "cell_type": "markdown",
   "id": "12c9ea3e-7f54-4676-b2a0-8f818c29aad0",
   "metadata": {},
   "source": [
    "# ChatGPT Playbook"
   ]
  },
  {
   "cell_type": "markdown",
   "id": "51f0d897-6f33-43fc-9c66-a44146f97211",
   "metadata": {},
   "source": [
    "<p>\n",
    "Mal Minhas, v1.3<br>\n",
    "14.05.24\n",
    "</p>\n",
    "\n",
    "<p>\n",
    "<h4>Versions</h4>\n",
    "<ul>\n",
    "<li><b>v1.0</b>: 01.03.23. First version</li>\n",
    "<li><b>v1.1</b>: 18.08.23. Updated for latest OpenAI update</li>\n",
    "<li><b>v1.2</b>: 21.01.24. Updated for Python 3.12</li>    \n",
    "<li><b>v1.3</b>: 14.05.24. Updated for GPT-4o</li>    \n",
    "</ul>\n",
    "</p>"
   ]
  },
  {
   "cell_type": "markdown",
   "id": "b24ceba1-3a77-4f12-bd3a-bf9cb75ba930",
   "metadata": {},
   "source": [
    "## 1. Installation"
   ]
  },
  {
   "cell_type": "markdown",
   "id": "a1b8426f-21a2-4b7f-bc08-5067de28c595",
   "metadata": {},
   "source": [
    "This notebook leverages the ChatGPT API which you can find out more about [here](https://openai.com/index/openai-api/).  It's been updated over time as OpenAI's `openai` has changed right up to the announcement of `gpt-4o' on 13.05.24.\n",
    "\n",
    "In order to use ChatGPT API you will need OpenAI API access.  For that you will need both an API key and an Organization ID for authentication.  You can obtain an API key from your [API Keys page](https://beta.openai.com/account/api-keys).  Organization IDs can be found on your [Organization settings](https://beta.openai.com/account/org-settings) page. The module assumes your API key and Organization ID have already been configured in two respective environment variables `OPENAI_KEY` and `OPENAI_ORG`."
   ]
  },
  {
   "cell_type": "code",
   "execution_count": 1,
   "id": "8a64abb6-abfc-49c5-b8e8-ff1a35f94dc6",
   "metadata": {},
   "outputs": [
    {
     "name": "stdout",
     "output_type": "stream",
     "text": [
      "['dall-e-3', 'davinci-002', 'gpt-4o', 'gpt-4', 'gpt-4-turbo', 'gpt-3.5-turbo', 'gpt-3.5-turbo-0613']\n"
     ]
    }
   ],
   "source": [
    "import os\n",
    "import openai\n",
    "\n",
    "openai.organization = os.getenv(\"OPENAI_ORG\")\n",
    "openai.api_key = os.getenv(\"OPENAI_KEY\")\n",
    "client = openai.OpenAI(api_key=os.getenv(\"OPENAI_KEY\"))\n",
    "models = client.models.list()\n",
    "names = []\n",
    "for model in models.data:\n",
    "    names.append(model.id)\n",
    "print(names)"
   ]
  },
  {
   "cell_type": "markdown",
   "id": "28186c45-7d25-48c9-bb12-669e5389ad69",
   "metadata": {},
   "source": [
    "Note the presence of `gpt-4o`."
   ]
  },
  {
   "cell_type": "code",
   "execution_count": 2,
   "id": "21ba247f-934a-46bb-b945-ff29d8bda67d",
   "metadata": {},
   "outputs": [
    {
     "data": {
      "text/plain": [
       "['gpt-4o', 'gpt-4', 'gpt-4-turbo', 'gpt-3.5-turbo', 'gpt-3.5-turbo-0613']"
      ]
     },
     "execution_count": 2,
     "metadata": {},
     "output_type": "execute_result"
    }
   ],
   "source": [
    "[name for name in names if name.find('gpt') == 0]"
   ]
  },
  {
   "cell_type": "markdown",
   "id": "ade11d44-9e71-4c94-a5fb-210a1f798c2e",
   "metadata": {},
   "source": [
    "Note you should switch to project based API keys and you may have to to enable auto-recharge [here](https://platform.openai.com/settings/organization/billing/overview) if you get a 429 insufficient credits error."
   ]
  },
  {
   "cell_type": "markdown",
   "id": "2e0d9140-3436-4823-9b2b-38ff5686c870",
   "metadata": {},
   "source": [
    "## 2. Basic Usage"
   ]
  },
  {
   "cell_type": "markdown",
   "id": "19e831e4-7abc-45fe-ba8b-f06b1aeb43cc",
   "metadata": {},
   "source": [
    "Here's the most basic invocation of the API using `gpt-3.5-turbo`:"
   ]
  },
  {
   "cell_type": "code",
   "execution_count": 3,
   "id": "0074332d-bbc7-42f8-b918-122beb2f06aa",
   "metadata": {},
   "outputs": [],
   "source": [
    "completion = client.chat.completions.create(\n",
    "  model=\"gpt-3.5-turbo\",\n",
    "  messages=[{\"role\": \"user\", \"content\": \"Tell the world about the ChatGPT API in the style of a pirate.\"}],\n",
    "  temperature=0.7\n",
    ")"
   ]
  },
  {
   "cell_type": "markdown",
   "id": "1bedee1f-9b66-4e47-8d5e-ecb454007a3f",
   "metadata": {},
   "source": [
    "Let's see what a `completion` instance is and then print it out:"
   ]
  },
  {
   "cell_type": "code",
   "execution_count": 4,
   "id": "311b4035-29e9-4eb3-8605-6dbfae894961",
   "metadata": {},
   "outputs": [
    {
     "name": "stdout",
     "output_type": "stream",
     "text": [
      "<class 'openai.types.chat.chat_completion.ChatCompletion'>\n",
      "['__abstractmethods__', '__annotations__', '__class__', '__class_getitem__', '__class_vars__', '__copy__', '__deepcopy__', '__delattr__', '__dict__', '__dir__', '__doc__', '__eq__', '__fields__', '__fields_set__', '__format__', '__ge__', '__get_pydantic_core_schema__', '__get_pydantic_json_schema__', '__getattr__', '__getattribute__', '__getstate__', '__gt__', '__hash__', '__init__', '__init_subclass__', '__iter__', '__le__', '__lt__', '__module__', '__ne__', '__new__', '__pretty__', '__private_attributes__', '__pydantic_complete__', '__pydantic_core_schema__', '__pydantic_custom_init__', '__pydantic_decorators__', '__pydantic_extra__', '__pydantic_fields_set__', '__pydantic_generic_metadata__', '__pydantic_init_subclass__', '__pydantic_parent_namespace__', '__pydantic_post_init__', '__pydantic_private__', '__pydantic_root_model__', '__pydantic_serializer__', '__pydantic_validator__', '__reduce__', '__reduce_ex__', '__repr__', '__repr_args__', '__repr_name__', '__repr_str__', '__rich_repr__', '__setattr__', '__setstate__', '__signature__', '__sizeof__', '__slots__', '__str__', '__subclasshook__', '__weakref__', '_abc_impl', '_calculate_keys', '_check_frozen', '_copy_and_set_values', '_get_value', '_iter', 'choices', 'construct', 'copy', 'created', 'dict', 'from_orm', 'id', 'json', 'model', 'model_computed_fields', 'model_config', 'model_construct', 'model_copy', 'model_dump', 'model_dump_json', 'model_extra', 'model_fields', 'model_fields_set', 'model_json_schema', 'model_parametrized_name', 'model_post_init', 'model_rebuild', 'model_validate', 'model_validate_json', 'model_validate_strings', 'object', 'parse_file', 'parse_obj', 'parse_raw', 'schema', 'schema_json', 'system_fingerprint', 'update_forward_refs', 'usage', 'validate']\n"
     ]
    }
   ],
   "source": [
    "print(type(completion))\n",
    "print(dir(completion))"
   ]
  },
  {
   "cell_type": "markdown",
   "id": "8f8b363c-6319-4e30-95f5-fcab75c19f1a",
   "metadata": {},
   "source": [
    "Let's dump `to_dict()`:"
   ]
  },
  {
   "cell_type": "code",
   "execution_count": 5,
   "id": "a32e61e0-ee46-4b6f-992f-68b42227bd99",
   "metadata": {},
   "outputs": [
    {
     "name": "stdout",
     "output_type": "stream",
     "text": [
      "('{\"id\":\"chatcmpl-9OaO9JLmSa2re0KgAQDjSECvQRGvG\",\"choices\":[{\"finish_reason\":\"stop\",\"index\":0,\"logprobs\":null,\"message\":{\"content\":\"Ahoy '\n",
      " 'there, mateys! Gather round and listen up as I tell ye about the wondrous '\n",
      " 'ChatGPT API, the treasure of the digital seas!\\\\n\\\\nArr, with the ChatGPT '\n",
      " 'API at yer disposal, ye can unlock the power of AI to create realistic and '\n",
      " 'engaging conversations with yer customers, me hearties. Whether ye be '\n",
      " \"lookin' to enhance customer support, boost engagement on yer website, or \"\n",
      " 'even just have a jolly good chat with yer users, the ChatGPT API be the '\n",
      " 'perfect tool for the job.\\\\n\\\\nWith its advanced natural language processing '\n",
      " 'capabilities, the ChatGPT API be able to understand and respond to a wide '\n",
      " \"variety of queries and conversations, just like a seasoned pirate navigatin' \"\n",
      " 'the high seas. Ye can customize and train the AI to speak in yer own voice '\n",
      " \"and tone, makin' it feel like a true member of yer crew.\\\\n\\\\nSo hoist the \"\n",
      " 'sails, me hearties, and set a course for success with the ChatGPT API. It be '\n",
      " \"the key to unlockin' endless possibilities for yer business, arrr! So what \"\n",
      " \"be ye waitin' for? Set sail with the ChatGPT API today and chart a course \"\n",
      " 'for greatness! Arrr! '\n",
      " '🏴\\u200d☠️🦜🌊\",\"role\":\"assistant\",\"function_call\":null,\"tool_calls\":null}}],\"created\":1715646777,\"model\":\"gpt-3.5-turbo-0125\",\"object\":\"chat.completion\",\"system_fingerprint\":null,\"usage\":{\"completion_tokens\":259,\"prompt_tokens\":23,\"total_tokens\":282}}')\n"
     ]
    }
   ],
   "source": [
    "import pprint\n",
    "pprint.pprint(completion.model_dump_json())"
   ]
  },
  {
   "cell_type": "markdown",
   "id": "f81c696f-1f53-4a02-9952-2c2affd47d7f",
   "metadata": {},
   "source": [
    "We can see the output is in the `content` field.  Let's write some utility functions to render code output in Markdown:"
   ]
  },
  {
   "cell_type": "code",
   "execution_count": 6,
   "id": "528bfb00-f1a0-46c5-b527-c7c26943c935",
   "metadata": {},
   "outputs": [],
   "source": [
    "from IPython.display import display, Markdown\n",
    "\n",
    "def renderMe(text):\n",
    "    display(Markdown(text))\n",
    "\n",
    "def completeMe(text, model='gpt-3.5-turbo'):\n",
    "    completion = client.chat.completions.create(\n",
    "        model = model, \n",
    "        messages = [{'role': 'user', 'content': text}]\n",
    "    )\n",
    "    return completion.choices[0].message.content.strip()"
   ]
  },
  {
   "cell_type": "markdown",
   "id": "5ad16950-5908-46d5-be4b-12a19d3c7557",
   "metadata": {},
   "source": [
    "Now let's render the completion:"
   ]
  },
  {
   "cell_type": "code",
   "execution_count": 7,
   "id": "5bb7e5c5-e435-4552-ad9a-d875faf08d29",
   "metadata": {
    "scrolled": true
   },
   "outputs": [
    {
     "data": {
      "text/markdown": [
       "Ahoy there, mateys! Gather round and listen up as I tell ye about the wondrous ChatGPT API, the treasure of the digital seas!\n",
       "\n",
       "Arr, with the ChatGPT API at yer disposal, ye can unlock the power of AI to create realistic and engaging conversations with yer customers, me hearties. Whether ye be lookin' to enhance customer support, boost engagement on yer website, or even just have a jolly good chat with yer users, the ChatGPT API be the perfect tool for the job.\n",
       "\n",
       "With its advanced natural language processing capabilities, the ChatGPT API be able to understand and respond to a wide variety of queries and conversations, just like a seasoned pirate navigatin' the high seas. Ye can customize and train the AI to speak in yer own voice and tone, makin' it feel like a true member of yer crew.\n",
       "\n",
       "So hoist the sails, me hearties, and set a course for success with the ChatGPT API. It be the key to unlockin' endless possibilities for yer business, arrr! So what be ye waitin' for? Set sail with the ChatGPT API today and chart a course for greatness! Arrr! 🏴‍☠️🦜🌊"
      ],
      "text/plain": [
       "<IPython.core.display.Markdown object>"
      ]
     },
     "metadata": {},
     "output_type": "display_data"
    }
   ],
   "source": [
    "renderMe(completion.choices[0].message.content.strip())"
   ]
  },
  {
   "cell_type": "markdown",
   "id": "1f5150fc-1ab0-49b6-8224-4a1f5fac3501",
   "metadata": {},
   "source": [
    "## 3. Generating and running Python code"
   ]
  },
  {
   "cell_type": "code",
   "execution_count": 8,
   "id": "876227de-cf52-427a-883c-f64722f0a593",
   "metadata": {},
   "outputs": [
    {
     "data": {
      "text/markdown": [
       "As of my knowledge cutoff date in October 2021, OpenAI's GPT-4 models, including hypothetical versions with image processing capabilities labeled as GPT-4o, have not been officially announced or documented. However, I can provide you with an example of how to pass text to OpenAI's API using the GPT-3 model, and how to upload an image using a hypothetical future API that supports multi-modal inputs. This example assumes that the API and model name are hypothetical and demonstrates how you could structure your code based on existing patterns for interacting with APIs and OpenAI.\n",
       "\n",
       "**Note:** This is purely illustrative and based on current practices for similar tasks. Please consult the latest OpenAI documentation for accurate information when working with new models and features.\n",
       "\n",
       "First, you need to install the `openai` Python package if you haven't already:\n",
       "\n",
       "```bash\n",
       "pip install openai\n",
       "```\n",
       "\n",
       "Next, here's the hypothetical code:\n",
       "\n",
       "```python\n",
       "import openai\n",
       "import base64\n",
       "\n",
       "# Define your API key (make sure to keep your key secure)\n",
       "api_key = 'your_openai_api_key'\n",
       "\n",
       "# Initialize the OpenAI library with your API key\n",
       "openai.api_key = api_key\n",
       "\n",
       "# Function to encode image in base64\n",
       "def encode_image_to_base64(image_path):\n",
       "    with open(image_path, 'rb') as image_file:\n",
       "        return base64.b64encode(image_file.read()).decode('utf-8')\n",
       "\n",
       "# Prepare text input and image\n",
       "text_input = \"Describe the image attached.\"\n",
       "image_path = \"path_to_your_image.jpg\"\n",
       "encoded_image = encode_image_to_base64(image_path)\n",
       "\n",
       "# Hypothetical call to the future API supporting GPT-4o\n",
       "response = openai.Completion.create(\n",
       "    model=\"gpt-4o\",\n",
       "    inputs={\n",
       "        \"text\": text_input,\n",
       "        \"image\": encoded_image\n",
       "    }\n",
       ")\n",
       "\n",
       "# Get and print the output\n",
       "output = response.choices[0].text\n",
       "print(output)\n",
       "```\n",
       "\n",
       "### Explanation:\n",
       "\n",
       "1. **Install the OpenAI package:** \n",
       "   - The `openai` package is used to interact with OpenAI's API.\n",
       "\n",
       "2. **Encode the Image:**\n",
       "   - The `encode_image_to_base64` function reads the image file and encodes it to Base64.\n",
       "   - This encoded image is then passed as a string to the API.\n",
       "\n",
       "3. **API Call:**\n",
       "   - The `openai.Completion.create` method is used to interact with the hypothetical GPT-4o model.\n",
       "   - The `inputs` dictionary integrates both text and image inputs.\n",
       "   - Note that this example uses an assumed interface. You should refer to the actual API documentation provided by OpenAI when such a model becomes available.\n",
       "\n",
       "4. **Retrieve the Response:**\n",
       "   - The text response from the API call is extracted and printed.\n",
       "\n",
       "Be sure to replace `\"your_openai_api_key\"` with your actual API key and `\"path_to_your_image.jpg\"` with the path to the image you want to use. \n",
       "\n",
       "Since models and APIs are constantly evolving, always refer to the latest documentation provided by OpenAI when you're working with new features or models."
      ],
      "text/plain": [
       "<IPython.core.display.Markdown object>"
      ]
     },
     "metadata": {},
     "output_type": "display_data"
    }
   ],
   "source": [
    "renderMe(completeMe(\"Write me some Python code showing how to pass an image and text into the OpenAI API using the GPT-4o model.\", model='gpt-4o'))"
   ]
  },
  {
   "cell_type": "markdown",
   "id": "7bd0d09c-62f3-4d59-92ba-cae045414672",
   "metadata": {},
   "source": [
    "## 4. Images and Text"
   ]
  },
  {
   "cell_type": "markdown",
   "id": "b571f2ae-b925-4442-a296-c9f0c06997ea",
   "metadata": {},
   "source": [
    "Let's take the Python code generated in the last step as input:"
   ]
  },
  {
   "cell_type": "code",
   "execution_count": 9,
   "id": "5781e86c-31de-4638-8548-ee1d80ea7dcd",
   "metadata": {},
   "outputs": [],
   "source": [
    "import base64\n",
    "from IPython.display import Image as ImageDisplay, Markdown, display\n",
    "\n",
    "def displayImage(im_file: str, width: int=600):\n",
    "    display(ImageDisplay(im_file, width=width))\n",
    "\n",
    "# Load your image file and encode it in base64\n",
    "def load_image_as_base64(image_path):\n",
    "    with open(image_path, 'rb') as image_file:\n",
    "        encoded_image = base64.b64encode(image_file.read()).decode('utf-8')\n",
    "    return encoded_image\n",
    "\n",
    "def completeMeWithImage(text, encoded_image, model='gpt-4o'):\n",
    "    completion = client.chat.completions.create(\n",
    "        model = model, \n",
    "        messages = [\n",
    "                    {'role': 'system', 'content': 'You are an AI that processes both images and text.'},\n",
    "                    {'role': 'user', 'content': text},\n",
    "                    {'role': 'user', 'content': encoded_image, 'type': 'image'},\n",
    "                   ]\n",
    "    )\n",
    "    return completion.choices[0].message.content.strip()"
   ]
  },
  {
   "cell_type": "markdown",
   "id": "a0d9a492-b332-4f6e-a3f6-d98d3ebeb51a",
   "metadata": {},
   "source": [
    "Let's feed it an image of a broken boiler and see what it comes up with:"
   ]
  },
  {
   "cell_type": "code",
   "execution_count": 10,
   "id": "6b4fb95f-de74-4266-b815-2d02cbd9350c",
   "metadata": {},
   "outputs": [
    {
     "data": {
      "image/jpeg": "[encoded data removed]",
      "text/plain": [
       "<IPython.core.display.Image object>"
      ]
     },
     "metadata": {
      "image/jpeg": {
       "width": 600
      }
     },
     "output_type": "display_data"
    }
   ],
   "source": [
    "image = 'brokenBoiler.jpg'\n",
    "displayImage(image)"
   ]
  },
  {
   "cell_type": "code",
   "execution_count": 11,
   "id": "d64cfca7-3401-42f5-aaaf-569d628e128b",
   "metadata": {},
   "outputs": [
    {
     "data": {
      "text/markdown": [
       "I'm sorry, but without actually seeing the image, I cannot directly identify the issue you might be facing or the type of tradesperson you may need. However, from the text you've provided, it seems like you might be dealing with a water leakage issue stemming from an access panel of an electric water heater. \n",
       "\n",
       "Based on this description, there could be a few types of tradespeople who could help:\n",
       "\n",
       "1. **Plumber**: If the problem is primarily related to water leakage or any plumbing issues, a licensed plumber would be the right professional to call. Plumbers can handle leaks and ensure that your water systems are functioning correctly.\n",
       "\n",
       "2. **HVAC Technician**: If the issue involves the electric water heater, you might need an HVAC (Heating, Ventilation, and Air Conditioning) technician who has expertise in water heaters. They can diagnose whether the issue is with the water heater itself and perform repairs or replacements if needed.\n",
       "\n",
       "3. **General Contractor or Handyman**: For minor repairs related to the access panel or surrounding structure, a general contractor or handyman could be sufficient. They can address structural issues or minor repairs that do not specifically require a plumber or HVAC technician.\n",
       "\n",
       "If you're not sure which type of professional you need, you might start with an HVAC technician if you suspect the electric water heater is the issue. They can then recommend a plumber if they find that the main problem is water-related."
      ],
      "text/plain": [
       "<IPython.core.display.Markdown object>"
      ]
     },
     "metadata": {},
     "output_type": "display_data"
    },
    {
     "name": "stdout",
     "output_type": "stream",
     "text": [
      "CPU times: user 10.5 ms, sys: 2.77 ms, total: 13.2 ms\n",
      "Wall time: 5.35 s\n"
     ]
    }
   ],
   "source": [
    "%%time\n",
    "\n",
    "prompt = \"Can you tell me what is wrong here and what Tradesperson I need to fix it?\"\n",
    "encoded_image = load_image_as_base64(image)\n",
    "renderMe(completeMeWithImage(prompt, encoded_image))"
   ]
  }
 ],
 "metadata": {
  "kernelspec": {
   "display_name": "Python 3 (ipykernel)",
   "language": "python",
   "name": "python3"
  },
  "language_info": {
   "codemirror_mode": {
    "name": "ipython",
    "version": 3
   },
   "file_extension": ".py",
   "mimetype": "text/x-python",
   "name": "python",
   "nbconvert_exporter": "python",
   "pygments_lexer": "ipython3",
   "version": "3.12.3"
  }
 },
 "nbformat": 4,
 "nbformat_minor": 5
}
