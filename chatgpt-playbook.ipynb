{
 "cells": [
  {
   "cell_type": "markdown",
   "id": "12c9ea3e-7f54-4676-b2a0-8f818c29aad0",
   "metadata": {},
   "source": [
    "# ChatGPT Playbook"
   ]
  },
  {
   "cell_type": "markdown",
   "id": "51f0d897-6f33-43fc-9c66-a44146f97211",
   "metadata": {},
   "source": [
    "<p>\n",
    "Mal Minhas, v1.2<br>\n",
    "21.01.24\n",
    "</p>\n",
    "\n",
    "<p>\n",
    "<h4>Versions</h4>\n",
    "<ul>\n",
    "<li><b>v1.0</b>: 01.03.23. First version</li>\n",
    "<li><b>v1.1</b>: 18.08.23. Updated for latest OpenAI update</li>\n",
    "<li><b>v1.2</b>: 21.01.24. Updated for Python 3.12</li>    \n",
    "</ul>\n",
    "</p>"
   ]
  },
  {
   "cell_type": "markdown",
   "id": "b24ceba1-3a77-4f12-bd3a-bf9cb75ba930",
   "metadata": {},
   "source": [
    "## 1. Installation"
   ]
  },
  {
   "cell_type": "markdown",
   "id": "a1b8426f-21a2-4b7f-bc08-5067de28c595",
   "metadata": {},
   "source": [
    "This notebook leverages a the newly announced ChatGPT API which you can find out more about in the OpenAI release announcement [here](https://openai.com/blog/introducing-chatgpt-and-whisper-apis).  It's been updated over time as OpenAI's `openai` has changed.\n",
    "\n",
    "In order to use ChatGPT API you will need OpenAI API access.  For that you will need both an API key and an Organization ID for authentication.  You can obtain an API key from your [API Keys page](https://beta.openai.com/account/api-keys).  Organization IDs can be found on your [Organization settings](https://beta.openai.com/account/org-settings) page. The module assumes your API key and Organization ID have been stored in two respective environment variables `OPENAI_API_KEY` and `OPENAI_ORG_ID`."
   ]
  },
  {
   "cell_type": "code",
   "execution_count": 1,
   "id": "40586e11-f2e3-4a85-9a72-ee029f8afd5b",
   "metadata": {},
   "outputs": [],
   "source": [
    "import os\n",
    "\n",
    "def configureEnvVars(key, org_id):\n",
    "    # NB: host url is not prepended with \\\"https\\\" nor does it have a trailing slash.\n",
    "    os.environ['OPENAI_API_KEY'] = key\n",
    "    os.environ['OPENAI_ORG_ID'] = org_id\n",
    "\n",
    "def getOrganisationId(file):\n",
    "    with open(file) as f:\n",
    "        key = f.read()\n",
    "    return key\n",
    "    \n",
    "def getAPIKey(file):\n",
    "    with open(file) as f:\n",
    "        key = f.read()\n",
    "    return key\n",
    "\n",
    "configureEnvVars(getAPIKey('.openAIKey'),getOrganisationId('.openAIOrg'))"
   ]
  },
  {
   "cell_type": "code",
   "execution_count": 2,
   "id": "8a64abb6-abfc-49c5-b8e8-ff1a35f94dc6",
   "metadata": {},
   "outputs": [
    {
     "name": "stdout",
     "output_type": "stream",
     "text": [
      "['curie-search-query', 'babbage-search-query', 'dall-e-3', 'babbage-search-document', 'dall-e-2', 'gpt-3.5-turbo-0301', 'text-embedding-ada-002', 'davinci-search-query', 'tts-1-hd-1106', 'gpt-4-0613', 'tts-1-hd', 'gpt-4', 'ada-search-document', 'ada-code-search-code', 'davinci-002', 'babbage-002', 'gpt-4-vision-preview', 'davinci-search-document', 'curie-search-document', 'whisper-1', 'ada-search-query', 'ada-code-search-text', 'gpt-3.5-turbo-1106', 'gpt-3.5-turbo-16k-0613', 'gpt-3.5-turbo-16k', 'gpt-3.5-turbo', 'gpt-3.5-turbo-0613', 'gpt-3.5-turbo-instruct', 'gpt-3.5-turbo-instruct-0914', 'gpt-4-1106-preview', 'tts-1-1106', 'tts-1']\n"
     ]
    }
   ],
   "source": [
    "import os\n",
    "import openai\n",
    "\n",
    "openai.organization = os.getenv(\"OPENAI_ORG_ID\")\n",
    "openai.api_key = os.getenv(\"OPENAI_API_KEY\")\n",
    "client = openai.OpenAI(api_key=os.getenv(\"OPENAI_API_KEY\"))\n",
    "models = client.models.list()\n",
    "names = []\n",
    "for model in models.data:\n",
    "    names.append(model.id)\n",
    "print(names)"
   ]
  },
  {
   "cell_type": "markdown",
   "id": "28186c45-7d25-48c9-bb12-669e5389ad69",
   "metadata": {},
   "source": [
    "Note the presence of `gpt-3.5`.  This is the model for ChatGPT per the OpenAI release announcement [here](https://openai.com/blog/introducing-chatgpt-and-whisper-apis):"
   ]
  },
  {
   "cell_type": "code",
   "execution_count": 3,
   "id": "21ba247f-934a-46bb-b945-ff29d8bda67d",
   "metadata": {},
   "outputs": [
    {
     "data": {
      "text/plain": [
       "['gpt-3.5-turbo-0301',\n",
       " 'gpt-4-0613',\n",
       " 'gpt-4',\n",
       " 'gpt-4-vision-preview',\n",
       " 'gpt-3.5-turbo-1106',\n",
       " 'gpt-3.5-turbo-16k-0613',\n",
       " 'gpt-3.5-turbo-16k',\n",
       " 'gpt-3.5-turbo',\n",
       " 'gpt-3.5-turbo-0613',\n",
       " 'gpt-3.5-turbo-instruct',\n",
       " 'gpt-3.5-turbo-instruct-0914',\n",
       " 'gpt-4-1106-preview']"
      ]
     },
     "execution_count": 3,
     "metadata": {},
     "output_type": "execute_result"
    }
   ],
   "source": [
    "[name for name in names if name.find('gpt') == 0]"
   ]
  },
  {
   "cell_type": "markdown",
   "id": "2e0d9140-3436-4823-9b2b-38ff5686c870",
   "metadata": {},
   "source": [
    "## 2. Usage"
   ]
  },
  {
   "cell_type": "markdown",
   "id": "19e831e4-7abc-45fe-ba8b-f06b1aeb43cc",
   "metadata": {},
   "source": [
    "Here's the most basic invocation of the API:"
   ]
  },
  {
   "cell_type": "code",
   "execution_count": 4,
   "id": "0074332d-bbc7-42f8-b918-122beb2f06aa",
   "metadata": {},
   "outputs": [],
   "source": [
    "completion = client.chat.completions.create(\n",
    "  model=\"gpt-3.5-turbo\",\n",
    "  messages=[{\"role\": \"user\", \"content\": \"Tell the world about the ChatGPT API in the style of a pirate.\"}],\n",
    "  temperature=0.7\n",
    ")"
   ]
  },
  {
   "cell_type": "markdown",
   "id": "1bedee1f-9b66-4e47-8d5e-ecb454007a3f",
   "metadata": {},
   "source": [
    "Let's see what a `completion` instance is and then print it out:"
   ]
  },
  {
   "cell_type": "code",
   "execution_count": 5,
   "id": "311b4035-29e9-4eb3-8605-6dbfae894961",
   "metadata": {},
   "outputs": [
    {
     "name": "stdout",
     "output_type": "stream",
     "text": [
      "<class 'openai.types.chat.chat_completion.ChatCompletion'>\n",
      "['__abstractmethods__', '__annotations__', '__class__', '__class_getitem__', '__class_vars__', '__copy__', '__deepcopy__', '__delattr__', '__dict__', '__dir__', '__doc__', '__eq__', '__fields__', '__fields_set__', '__format__', '__ge__', '__get_pydantic_core_schema__', '__get_pydantic_json_schema__', '__getattr__', '__getattribute__', '__getstate__', '__gt__', '__hash__', '__init__', '__init_subclass__', '__iter__', '__le__', '__lt__', '__module__', '__ne__', '__new__', '__pretty__', '__private_attributes__', '__pydantic_complete__', '__pydantic_core_schema__', '__pydantic_custom_init__', '__pydantic_decorators__', '__pydantic_extra__', '__pydantic_fields_set__', '__pydantic_generic_metadata__', '__pydantic_init_subclass__', '__pydantic_parent_namespace__', '__pydantic_post_init__', '__pydantic_private__', '__pydantic_root_model__', '__pydantic_serializer__', '__pydantic_validator__', '__reduce__', '__reduce_ex__', '__repr__', '__repr_args__', '__repr_name__', '__repr_str__', '__rich_repr__', '__setattr__', '__setstate__', '__signature__', '__sizeof__', '__slots__', '__str__', '__subclasshook__', '__weakref__', '_abc_impl', '_calculate_keys', '_check_frozen', '_copy_and_set_values', '_get_value', '_iter', 'choices', 'construct', 'copy', 'created', 'dict', 'from_orm', 'id', 'json', 'model', 'model_computed_fields', 'model_config', 'model_construct', 'model_copy', 'model_dump', 'model_dump_json', 'model_extra', 'model_fields', 'model_fields_set', 'model_json_schema', 'model_parametrized_name', 'model_post_init', 'model_rebuild', 'model_validate', 'model_validate_json', 'model_validate_strings', 'object', 'parse_file', 'parse_obj', 'parse_raw', 'schema', 'schema_json', 'system_fingerprint', 'update_forward_refs', 'usage', 'validate']\n"
     ]
    }
   ],
   "source": [
    "print(type(completion))\n",
    "print(dir(completion))"
   ]
  },
  {
   "cell_type": "markdown",
   "id": "8f8b363c-6319-4e30-95f5-fcab75c19f1a",
   "metadata": {},
   "source": [
    "Let's dump `to_dict()`:"
   ]
  },
  {
   "cell_type": "code",
   "execution_count": 6,
   "id": "a32e61e0-ee46-4b6f-992f-68b42227bd99",
   "metadata": {},
   "outputs": [
    {
     "name": "stdout",
     "output_type": "stream",
     "text": [
      "('{\"id\":\"chatcmpl-8jZZAPCbAlvCYoUHHcQUXForzrNWa\",\"choices\":[{\"finish_reason\":\"stop\",\"index\":0,\"logprobs\":null,\"message\":{\"content\":\"Ahoy, '\n",
      " \"me hearties! Gather 'round and listen closely, for I have a tale to share \"\n",
      " 'about the ChatGPT API, arrr!\\\\n\\\\nAvast ye! The ChatGPT API be a magnificent '\n",
      " 'treasure, a power that be harnessed to interact with the wondrous ChatGPT '\n",
      " 'model. With this API, ye can bring the essence of ChatGPT to yer own '\n",
      " 'applications, websites, or even yer own software creations. It be like '\n",
      " \"havin' yer very own parrot that be speakin' like a true gentleman o' \"\n",
      " \"fortune!\\\\n\\\\nNow, ye may be wonderin' what makes this ChatGPT API so \"\n",
      " \"special, aye? Well, buckle up, me hearties! This API be capable of holdin' \"\n",
      " 'engaging conversations with ye users. It be a language model trained on vast '\n",
      " \"amounts o' text, learnin' the intricacies o' human speech. It can answer \"\n",
      " 'questions, provide explanations, or simply have a jolly chat with ye, just '\n",
      " \"like a trusty matey!\\\\n\\\\nBut that ain't all, me hearties! The ChatGPT API \"\n",
      " 'be flexible and customizable. Ye can set the context, define the messages, '\n",
      " \"and even guide the conversation flow, just like steerin' a ship through \"\n",
      " \"stormy seas. It be truly a treasure trove for developers, openin' up endless \"\n",
      " 'possibilities to create immersive experiences and unique '\n",
      " 'interactions.\\\\n\\\\nPicture this, ye scallywags! Ye can use the ChatGPT API '\n",
      " 'to build customer support bots, virtual assistants, or even gamify ye '\n",
      " \"applications with witty and clever dialogue. It be like havin' a shipload o' \"\n",
      " 'possibilities at yer fingertips, ready to set sail on a grand '\n",
      " \"adventure!\\\\n\\\\nNow, ye might be wonderin' how ye can get yer hands on this \"\n",
      " 'treasure, aye? Well, fear not! The ChatGPT API be accessible to all '\n",
      " 'developers, whether ye be an experienced buccaneer or a fresh-faced '\n",
      " 'landlubber. Ye can find all the details ye need in the OpenAI API '\n",
      " \"documentation, where ye shall discover the secrets to unlockin' the power o' \"\n",
      " 'ChatGPT.\\\\n\\\\nBut heed me words, me hearties! Just as a pirate must respect '\n",
      " 'the sea, ye must respect the usage policies and guidelines set forth by '\n",
      " \"OpenAI. They be there to ensure fair and responsible use o' this powerful \"\n",
      " \"tool, preventin' any misuse or mischief. Let's keep the seas calm and the \"\n",
      " \"treasure huntin' fair for everyone!\\\\n\\\\nSo, me hearties, set sail on this \"\n",
      " \"grand adventure with the ChatGPT API. Unleash the power o' language modelin' \"\n",
      " \"and create experiences that be leavin' yer users in awe. The possibilities \"\n",
      " \"be endless, and the ChatGPT API be yer key to unlockin' 'em all. Fair winds \"\n",
      " \"and smooth sailin', me mateys! \"\n",
      " 'Arrr!\",\"role\":\"assistant\",\"function_call\":null,\"tool_calls\":null}}],\"created\":1705872168,\"model\":\"gpt-3.5-turbo-0613\",\"object\":\"chat.completion\",\"system_fingerprint\":null,\"usage\":{\"completion_tokens\":581,\"prompt_tokens\":23,\"total_tokens\":604}}')\n"
     ]
    }
   ],
   "source": [
    "import pprint\n",
    "pprint.pprint(completion.model_dump_json())"
   ]
  },
  {
   "cell_type": "markdown",
   "id": "f81c696f-1f53-4a02-9952-2c2affd47d7f",
   "metadata": {},
   "source": [
    "We can see the output is in the `content` field.  Let's write some utility functions to render code output in Markdown:"
   ]
  },
  {
   "cell_type": "code",
   "execution_count": 7,
   "id": "528bfb00-f1a0-46c5-b527-c7c26943c935",
   "metadata": {},
   "outputs": [],
   "source": [
    "from IPython.display import display, Markdown\n",
    "\n",
    "def renderMe(text):\n",
    "    display(Markdown(text))\n",
    "\n",
    "def completeMe(text):\n",
    "    completion = client.chat.completions.create(\n",
    "        model = 'gpt-3.5-turbo', \n",
    "        messages = [{'role': 'user', 'content': text}]\n",
    "    )\n",
    "    return completion.choices[0].message.content.strip()"
   ]
  },
  {
   "cell_type": "code",
   "execution_count": 8,
   "id": "876227de-cf52-427a-883c-f64722f0a593",
   "metadata": {},
   "outputs": [
    {
     "data": {
      "text/markdown": [
       "Sure! Here's a Python code to draw a Mandelbrot set using matplotlib:\n",
       "\n",
       "```python\n",
       "import numpy as np\n",
       "import matplotlib.pyplot as plt\n",
       "\n",
       "def mandelbrot(c, max_iter):\n",
       "    z = 0\n",
       "    for i in range(max_iter):\n",
       "        z = z*z + c\n",
       "        if abs(z) > 2:\n",
       "            return i\n",
       "    return max_iter\n",
       "\n",
       "def draw_mandelbrot(width, height, x_min, x_max, y_min, y_max, max_iter):\n",
       "    pixels = np.zeros((width, height))\n",
       "    for x in range(width):\n",
       "        for y in range(height):\n",
       "            real = x_min + (x / float(width)) * (x_max - x_min)\n",
       "            imaginary = y_min + (y / float(height)) * (y_max - y_min)\n",
       "            c = complex(real, imaginary)\n",
       "            pixels[x, y] = mandelbrot(c, max_iter)\n",
       "\n",
       "    plt.imshow(pixels.T, cmap='hot', extent=(x_min, x_max, y_min, y_max))\n",
       "    plt.xlabel('Real')\n",
       "    plt.ylabel('Imaginary')\n",
       "    plt.title('Mandelbrot Set')\n",
       "    plt.show()\n",
       "\n",
       "# Set the parameters for the plot\n",
       "width = 800\n",
       "height = 800\n",
       "x_min, x_max = -2.0, 1.0\n",
       "y_min, y_max = -1.5, 1.5\n",
       "max_iter = 100\n",
       "\n",
       "# Call the function to draw the Mandelbrot set\n",
       "draw_mandelbrot(width, height, x_min, x_max, y_min, y_max, max_iter)\n",
       "```\n",
       "\n",
       "This code defines two functions: `mandelbrot` and `draw_mandelbrot`. The `mandelbrot` function determines the number of iterations required for a given complex number `c` to escape the Mandelbrot set. The `draw_mandelbrot` function creates a 2D array of the Mandelbrot set and plots it using matplotlib.\n",
       "\n",
       "You can adjust the parameters `width`, `height`, `x_min`, `x_max`, `y_min`, `y_max`, and `max_iter` to customize the plot according to your preference."
      ],
      "text/plain": [
       "<IPython.core.display.Markdown object>"
      ]
     },
     "metadata": {},
     "output_type": "display_data"
    }
   ],
   "source": [
    "renderMe(completeMe(\"Write and execute Python code to draw a Mandelbrot set using matplotlib.\"))"
   ]
  },
  {
   "cell_type": "code",
   "execution_count": 9,
   "id": "bd136097-f151-4e1b-9fba-264501211b46",
   "metadata": {},
   "outputs": [
    {
     "data": {
      "image/png": "[encoded data removed]",
      "text/plain": [
       "<Figure size 640x480 with 1 Axes>"
      ]
     },
     "metadata": {},
     "output_type": "display_data"
    }
   ],
   "source": [
    "import numpy as np\n",
    "import matplotlib.pyplot as plt\n",
    "\n",
    "def mandelbrot(c, max_iter):\n",
    "    z = 0\n",
    "    for i in range(max_iter):\n",
    "        z = z*z + c\n",
    "        if abs(z) > 2:\n",
    "            return i\n",
    "    return max_iter\n",
    "\n",
    "def draw_mandelbrot(width, height, x_min, x_max, y_min, y_max, max_iter):\n",
    "    pixels = np.zeros((width, height))\n",
    "    for x in range(width):\n",
    "        for y in range(height):\n",
    "            real = x_min + (x / float(width)) * (x_max - x_min)\n",
    "            imaginary = y_min + (y / float(height)) * (y_max - y_min)\n",
    "            c = complex(real, imaginary)\n",
    "            pixels[x, y] = mandelbrot(c, max_iter)\n",
    "\n",
    "    plt.imshow(pixels.T, cmap='hot', extent=(x_min, x_max, y_min, y_max))\n",
    "    plt.xlabel('Real')\n",
    "    plt.ylabel('Imaginary')\n",
    "    plt.title('Mandelbrot Set')\n",
    "    plt.show()\n",
    "\n",
    "# Set the parameters for the plot\n",
    "width = 800\n",
    "height = 800\n",
    "x_min, x_max = -2.0, 1.0\n",
    "y_min, y_max = -1.5, 1.5\n",
    "max_iter = 100\n",
    "\n",
    "# Call the function to draw the Mandelbrot set\n",
    "draw_mandelbrot(width, height, x_min, x_max, y_min, y_max, max_iter)"
   ]
  }
 ],
 "metadata": {
  "kernelspec": {
   "display_name": "Python 3 (ipykernel)",
   "language": "python",
   "name": "python3"
  },
  "language_info": {
   "codemirror_mode": {
    "name": "ipython",
    "version": 3
   },
   "file_extension": ".py",
   "mimetype": "text/x-python",
   "name": "python",
   "nbconvert_exporter": "python",
   "pygments_lexer": "ipython3",
   "version": "3.12.1"
  }
 },
 "nbformat": 4,
 "nbformat_minor": 5
}
