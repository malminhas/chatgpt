{
 "cells": [
  {
   "cell_type": "markdown",
   "id": "12c9ea3e-7f54-4676-b2a0-8f818c29aad0",
   "metadata": {},
   "source": [
    "# ChatGPT Playbook"
   ]
  },
  {
   "cell_type": "markdown",
   "id": "51f0d897-6f33-43fc-9c66-a44146f97211",
   "metadata": {},
   "source": [
    "<p>\n",
    "Mal Minhas, v1.0<br>\n",
    "01.03.23\n",
    "</p>"
   ]
  },
  {
   "cell_type": "markdown",
   "id": "b24ceba1-3a77-4f12-bd3a-bf9cb75ba930",
   "metadata": {},
   "source": [
    "## 1. Installation"
   ]
  },
  {
   "cell_type": "markdown",
   "id": "a1b8426f-21a2-4b7f-bc08-5067de28c595",
   "metadata": {},
   "source": [
    "This notebook leverages a the newly announced ChatGPT API which you can find out more about in the OpenAI release announcement [here](https://openai.com/blog/introducing-chatgpt-and-whisper-apis).\n",
    "\n",
    "In order to use ChatGPT API you will need OpenAI API access.  For that you will need both an API key and an Organization ID for authentication.  You can obtain an API key from your [API Keys page](https://beta.openai.com/account/api-keys).  Organization IDs can be found on your [Organization settings](https://beta.openai.com/account/org-settings) page. The module assumes your API key and Organization ID have been stored in two respective environment variables `OPENAI_API_KEY` and `OPENAI_ORG_ID`."
   ]
  },
  {
   "cell_type": "code",
   "execution_count": 1,
   "id": "40586e11-f2e3-4a85-9a72-ee029f8afd5b",
   "metadata": {},
   "outputs": [],
   "source": [
    "import os\n",
    "\n",
    "def configureEnvVars(key, org_id):\n",
    "    # NB: host url is not prepended with \\\"https\\\" nor does it have a trailing slash.\n",
    "    os.environ['OPENAI_API_KEY'] = key\n",
    "    os.environ['OPENAI_ORG_ID'] = org_id\n",
    "\n",
    "def getOrganisationId(file):\n",
    "    with open(file) as f:\n",
    "        key = f.read()\n",
    "    return key\n",
    "    \n",
    "def getAPIKey(file):\n",
    "    with open(file) as f:\n",
    "        key = f.read()\n",
    "    return key\n",
    "\n",
    "configureEnvVars(getAPIKey('.openAIKey'),getOrganisationId('.openAIOrg'))"
   ]
  },
  {
   "cell_type": "code",
   "execution_count": 2,
   "id": "8a64abb6-abfc-49c5-b8e8-ff1a35f94dc6",
   "metadata": {},
   "outputs": [
    {
     "name": "stdout",
     "output_type": "stream",
     "text": [
      "['babbage', 'davinci', 'gpt-3.5-turbo-0301', 'text-davinci-003', 'babbage-code-search-code', 'text-similarity-babbage-001', 'text-davinci-001', 'ada', 'curie-instruct-beta', 'babbage-code-search-text', 'babbage-similarity', 'gpt-3.5-turbo', 'code-search-babbage-text-001', 'text-embedding-ada-002', 'code-cushman-001', 'whisper-1', 'code-search-babbage-code-001', 'audio-transcribe-deprecated', 'text-ada-001', 'text-similarity-ada-001', 'text-davinci-insert-002', 'ada-code-search-code', 'ada-similarity', 'code-search-ada-text-001', 'text-search-ada-query-001', 'text-curie-001', 'text-davinci-edit-001', 'davinci-search-document', 'ada-code-search-text', 'text-search-ada-doc-001', 'code-davinci-edit-001', 'davinci-instruct-beta', 'text-similarity-curie-001', 'code-search-ada-code-001', 'ada-search-query', 'text-search-davinci-query-001', 'curie-search-query', 'code-davinci-002', 'davinci-search-query', 'text-davinci-insert-001', 'babbage-search-document', 'ada-search-document', 'text-search-curie-query-001', 'text-search-babbage-doc-001', 'text-davinci-002', 'curie-search-document', 'text-search-curie-doc-001', 'babbage-search-query', 'text-babbage-001', 'text-search-davinci-doc-001', 'text-search-babbage-query-001', 'curie-similarity', 'curie', 'text-similarity-davinci-001', 'davinci-similarity', 'cushman:2020-05-03', 'ada:2020-05-03', 'babbage:2020-05-03', 'curie:2020-05-03', 'davinci:2020-05-03', 'if-davinci-v2', 'if-curie-v2', 'if-davinci:3.0.0', 'davinci-if:3.0.0', 'davinci-instruct-beta:2.0.0', 'text-ada:001', 'text-davinci:001', 'text-curie:001', 'text-babbage:001']\n"
     ]
    }
   ],
   "source": [
    "import os\n",
    "import openai\n",
    "\n",
    "openai.organization = os.getenv(\"OPENAI_ORG_ID\")\n",
    "openai.api_key = os.getenv(\"OPENAI_API_KEY\")\n",
    "models = openai.Model.list()\n",
    "names = []\n",
    "for model in models.data:\n",
    "    names.append(model.get('id'))\n",
    "print(names)"
   ]
  },
  {
   "cell_type": "markdown",
   "id": "28186c45-7d25-48c9-bb12-669e5389ad69",
   "metadata": {},
   "source": [
    "Note the presence of `gpt-3.5`.  This is the model for ChatGPT per the OpenAI release announcement [here](https://openai.com/blog/introducing-chatgpt-and-whisper-apis):"
   ]
  },
  {
   "cell_type": "code",
   "execution_count": 3,
   "id": "21ba247f-934a-46bb-b945-ff29d8bda67d",
   "metadata": {},
   "outputs": [
    {
     "data": {
      "text/plain": [
       "['gpt-3.5-turbo-0301', 'gpt-3.5-turbo']"
      ]
     },
     "execution_count": 3,
     "metadata": {},
     "output_type": "execute_result"
    }
   ],
   "source": [
    "[name for name in names if name.find('gpt') == 0]"
   ]
  },
  {
   "cell_type": "markdown",
   "id": "2e0d9140-3436-4823-9b2b-38ff5686c870",
   "metadata": {},
   "source": [
    "## 2. Usage"
   ]
  },
  {
   "cell_type": "markdown",
   "id": "19e831e4-7abc-45fe-ba8b-f06b1aeb43cc",
   "metadata": {},
   "source": [
    "Here's the most basic invokation of the API:"
   ]
  },
  {
   "cell_type": "code",
   "execution_count": 4,
   "id": "0074332d-bbc7-42f8-b918-122beb2f06aa",
   "metadata": {},
   "outputs": [],
   "source": [
    "completion = openai.ChatCompletion.create(\n",
    "  model=\"gpt-3.5-turbo\", \n",
    "  messages=[{\"role\": \"user\", \"content\": \"Tell the world about the ChatGPT API in the style of a pirate.\"}]\n",
    ")"
   ]
  },
  {
   "cell_type": "markdown",
   "id": "1bedee1f-9b66-4e47-8d5e-ecb454007a3f",
   "metadata": {},
   "source": [
    "Let's see what a `completion` instance is and then print it out:"
   ]
  },
  {
   "cell_type": "code",
   "execution_count": 7,
   "id": "311b4035-29e9-4eb3-8605-6dbfae894961",
   "metadata": {},
   "outputs": [
    {
     "name": "stdout",
     "output_type": "stream",
     "text": [
      "<class 'openai.openai_object.OpenAIObject'>\n",
      "['__class__', '__class_getitem__', '__contains__', '__copy__', '__deepcopy__', '__delattr__', '__delitem__', '__dict__', '__dir__', '__doc__', '__eq__', '__format__', '__ge__', '__getattr__', '__getattribute__', '__getitem__', '__gt__', '__hash__', '__init__', '__init_subclass__', '__ior__', '__iter__', '__le__', '__len__', '__lt__', '__module__', '__ne__', '__new__', '__or__', '__reduce__', '__reduce_ex__', '__repr__', '__reversed__', '__ror__', '__setattr__', '__setitem__', '__setstate__', '__sizeof__', '__str__', '__subclasshook__', '__weakref__', '_previous', '_response_ms', '_retrieve_params', 'api_base', 'api_base_override', 'api_key', 'api_type', 'api_version', 'arequest', 'clear', 'construct_from', 'copy', 'engine', 'fromkeys', 'get', 'items', 'keys', 'openai_id', 'organization', 'pop', 'popitem', 'refresh_from', 'request', 'response_ms', 'setdefault', 'to_dict', 'to_dict_recursive', 'typed_api_type', 'update', 'values']\n"
     ]
    }
   ],
   "source": [
    "print(type(completion))\n",
    "print(dir(completion))"
   ]
  },
  {
   "cell_type": "markdown",
   "id": "8f8b363c-6319-4e30-95f5-fcab75c19f1a",
   "metadata": {},
   "source": [
    "Let's dump `to_dict()`:"
   ]
  },
  {
   "cell_type": "code",
   "execution_count": 20,
   "id": "a32e61e0-ee46-4b6f-992f-68b42227bd99",
   "metadata": {},
   "outputs": [
    {
     "data": {
      "text/plain": [
       "<OpenAIObject chat.completion id=chatcmpl-6pREjk10524dvAV191JWEIaIenV6C at 0x105dcee80> JSON: {\n",
       "  \"choices\": [\n",
       "    {\n",
       "      \"finish_reason\": \"stop\",\n",
       "      \"index\": 0,\n",
       "      \"message\": {\n",
       "        \"content\": \"\\n\\nAhoy there, mates! Hoist the sails and get ready to discover the treasure of ChatGPT, me hearties! This be the most powerful and amazing chatbot API ye shall ever lay eyes on!\\n\\nWith ChatGPT's API, ye can create yer own chatbot that speaks like a true pirate, savvy? Make it answer questions, tell ye jokes, or even play a game o' luck with ya. Arrr, the possibilities are endless!\\n\\nThis jolly chatbot API be designed to be easy to use and integrate into yer app or website. And, shiver me timbers, it be powered by the most advanced AI technology. So, ye can be sure that yer chatbot will be the smartest and most helpful matey on the seven seas.\\n\\nSo, what are ye waiting for? Grab yer parrot and hop on board the ChatGPT API ship. It be a treasure worth more than gold doubloons!\",\n",
       "        \"role\": \"assistant\"\n",
       "      }\n",
       "    }\n",
       "  ],\n",
       "  \"created\": 1677717445,\n",
       "  \"id\": \"chatcmpl-6pREjk10524dvAV191JWEIaIenV6C\",\n",
       "  \"model\": \"gpt-3.5-turbo-0301\",\n",
       "  \"object\": \"chat.completion\",\n",
       "  \"usage\": {\n",
       "    \"completion_tokens\": 195,\n",
       "    \"prompt_tokens\": 23,\n",
       "    \"total_tokens\": 218\n",
       "  }\n",
       "}"
      ]
     },
     "execution_count": 20,
     "metadata": {},
     "output_type": "execute_result"
    }
   ],
   "source": [
    "completion"
   ]
  },
  {
   "cell_type": "markdown",
   "id": "f81c696f-1f53-4a02-9952-2c2affd47d7f",
   "metadata": {},
   "source": [
    "We can see the output is in the `content` field.  Let's write some utility functions to render code output in Markdown:"
   ]
  },
  {
   "cell_type": "code",
   "execution_count": 27,
   "id": "528bfb00-f1a0-46c5-b527-c7c26943c935",
   "metadata": {},
   "outputs": [],
   "source": [
    "from IPython.display import display, Markdown\n",
    "\n",
    "def renderMe(text):\n",
    "    display(Markdown(text))\n",
    "\n",
    "def completeMe(text):\n",
    "    completion = openai.ChatCompletion.create(\n",
    "      model = 'gpt-3.5-turbo', \n",
    "      messages = [{'role': 'user', 'content': text}]\n",
    "    )\n",
    "    return completion.get('choices')[0].get('message').get('content')"
   ]
  },
  {
   "cell_type": "code",
   "execution_count": 29,
   "id": "876227de-cf52-427a-883c-f64722f0a593",
   "metadata": {},
   "outputs": [
    {
     "data": {
      "text/markdown": [
       "\n",
       "\n",
       "As an AI language model, I cannot execute code on your native machine. However, I can show you how the Python code looks like for drawing a Mandelbrot set:\n",
       "\n",
       "```python\n",
       "import numpy as np\n",
       "import matplotlib.pyplot as plt\n",
       "\n",
       "# define the resolution of the plot\n",
       "width, height = 1000, 1000\n",
       "\n",
       "# define the area of the complex plane to plot\n",
       "real_min, real_max = -2.0, 1.0\n",
       "imag_min, imag_max = -1.5, 1.5\n",
       "\n",
       "# create arrays for the real and imaginary parts of the complex plane\n",
       "real_vals = np.linspace(real_min, real_max, width)\n",
       "imag_vals = np.linspace(imag_min, imag_max, height)\n",
       "\n",
       "# create a 2d array to store the mandelbrot set\n",
       "mandelbrot = np.zeros((width, height))\n",
       "\n",
       "# iterate over each pixel in the plot\n",
       "for x in range(width):\n",
       "    for y in range(height):\n",
       "        # get the corresponding complex number for the current pixel\n",
       "        c = complex(real_vals[x], imag_vals[y])\n",
       "        # set z to the starting value z_0 = 0\n",
       "        z = complex(0, 0)\n",
       "        # iterate until the absolute value of z exceeds 2 or the maximum number of iterations is reached\n",
       "        for i in range(1000):\n",
       "            z = z**2 + c\n",
       "            # escape condition\n",
       "            if abs(z) > 2:\n",
       "                mandelbrot[x, y] = i\n",
       "                break\n",
       "\n",
       "# plot the Mandelbrot set\n",
       "plt.figure(figsize=(10,10))\n",
       "plt.imshow(mandelbrot.T, cmap='magma', origin='lower', extent=(real_min,real_max,imag_min,imag_max))\n",
       "plt.xlabel('Real axis')\n",
       "plt.ylabel('Imaginary axis')\n",
       "plt.show()\n",
       "```\n",
       "\n",
       "This code defines the resolution and area of the plot, creates arrays for the real and imaginary parts of the complex plane, and iterates over each pixel in the plot to calculate the corresponding Mandelbrot set value using the given escape condition. Finally, it plots the Mandelbrot set using `imshow` function from `matplotlib` library. \n",
       "\n",
       "Note that the higher the value of the maximum iterations is, the more precise the plot will be. However, this will also take longer to calculate."
      ],
      "text/plain": [
       "<IPython.core.display.Markdown object>"
      ]
     },
     "metadata": {},
     "output_type": "display_data"
    }
   ],
   "source": [
    "renderMe(completeMe(\"Write and execute Python code to draw a Mandelbrot set.\"))"
   ]
  },
  {
   "cell_type": "code",
   "execution_count": 30,
   "id": "bd136097-f151-4e1b-9fba-264501211b46",
   "metadata": {},
   "outputs": [
    {
     "data": {
      "image/png": "[encoded data removed]",
      "text/plain": [
       "<Figure size 640x480 with 1 Axes>"
      ]
     },
     "metadata": {},
     "output_type": "display_data"
    }
   ],
   "source": [
    "import numpy as np\n",
    "import matplotlib.pyplot as plt\n",
    " \n",
    "def mandelbrot_set(width, height, zoom=1, x_off=0, y_off=0, max_iter=255):\n",
    "    # create arrays of x,y values\n",
    "    x = np.linspace(-2.5, 1.5, width)\n",
    "    y = np.linspace(-2, 2, height)\n",
    "    real, imag = np.meshgrid(x,y)\n",
    "    \n",
    "    # convert x,y to complex numbers\n",
    "    c = (real + 1j*imag) * zoom\n",
    "    c = c - (x_off + 1j*y_off)\n",
    "    \n",
    "    # initialize z and output array\n",
    "    z = np.zeros_like(c)\n",
    "    output = np.zeros(c.shape, dtype=int)\n",
    "    \n",
    "    # iterate until max iter or escape criterion is met\n",
    "    for i in range(max_iter):\n",
    "        notdone = np.less(z.real*z.real + z.imag*z.imag, 4.0)\n",
    "        output[notdone] = i\n",
    "        z[notdone] = z[notdone]**2 + c[notdone]\n",
    " \n",
    "    return output.T\n",
    " \n",
    "# create the image\n",
    "mandel = mandelbrot_set(1000,1000, zoom=0.8, x_off=-0.54015, y_off=-0.6333005)\n",
    " \n",
    "# show the image\n",
    "plt.imshow(mandel, cmap='jet')\n",
    "plt.axis('off')\n",
    "plt.show()"
   ]
  }
 ],
 "metadata": {
  "kernelspec": {
   "display_name": "Python 3 (ipykernel)",
   "language": "python",
   "name": "python3"
  },
  "language_info": {
   "codemirror_mode": {
    "name": "ipython",
    "version": 3
   },
   "file_extension": ".py",
   "mimetype": "text/x-python",
   "name": "python",
   "nbconvert_exporter": "python",
   "pygments_lexer": "ipython3",
   "version": "3.10.8"
  }
 },
 "nbformat": 4,
 "nbformat_minor": 5
}
